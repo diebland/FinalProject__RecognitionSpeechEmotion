{
 "cells": [
  {
   "cell_type": "markdown",
   "id": "c86aa799",
   "metadata": {},
   "source": [
    "Filename identifiers\n",
    "\n",
    "Modality (01 = full-AV, 02 = video-only, 03 = audio-only). Vocal channel (01 = speech, 02 = song). Emotion (01 = neutral, 02 = calm, 03 = happy, 04 = sad, 05 = angry, 06 = fearful, 07 = disgust, 08 = surprised). Emotional intensity (01 = normal, 02 = strong). NOTE: There is no strong intensity for the 'neutral' emotion. Statement (01 = \"Kids are talking by the door\", 02 = \"Dogs are sitting by the door\"). Repetition (01 = 1st repetition, 02 = 2nd repetition). Actor (01 to 24. Odd numbered actors are male, even numbered actors are female)."
   ]
  },
  {
   "cell_type": "code",
   "execution_count": 39,
   "id": "d338f2ba",
   "metadata": {},
   "outputs": [
    {
     "ename": "ModuleNotFoundError",
     "evalue": "No module named 'librosa.disp'",
     "output_type": "error",
     "traceback": [
      "\u001b[1;31m---------------------------------------------------------------------------\u001b[0m",
      "\u001b[1;31mModuleNotFoundError\u001b[0m                       Traceback (most recent call last)",
      "\u001b[1;32m<ipython-input-39-f4bb8104816e>\u001b[0m in \u001b[0;36m<module>\u001b[1;34m\u001b[0m\n\u001b[0;32m      1\u001b[0m \u001b[1;32mimport\u001b[0m \u001b[0mlibrosa\u001b[0m \u001b[1;32mas\u001b[0m \u001b[0mlr\u001b[0m\u001b[1;33m\u001b[0m\u001b[1;33m\u001b[0m\u001b[0m\n\u001b[1;32m----> 2\u001b[1;33m \u001b[1;32mimport\u001b[0m \u001b[0mlibrosa\u001b[0m\u001b[1;33m.\u001b[0m\u001b[0mdisp\u001b[0m\u001b[1;33m\u001b[0m\u001b[1;33m\u001b[0m\u001b[0m\n\u001b[0m\u001b[0;32m      3\u001b[0m \u001b[1;32mimport\u001b[0m \u001b[0mlibrosa\u001b[0m\u001b[1;33m\u001b[0m\u001b[1;33m\u001b[0m\u001b[0m\n\u001b[0;32m      4\u001b[0m \u001b[1;32mimport\u001b[0m \u001b[0mos\u001b[0m\u001b[1;33m\u001b[0m\u001b[1;33m\u001b[0m\u001b[0m\n\u001b[0;32m      5\u001b[0m \u001b[1;32mimport\u001b[0m \u001b[0mpandas\u001b[0m \u001b[1;32mas\u001b[0m \u001b[0mpd\u001b[0m\u001b[1;33m\u001b[0m\u001b[1;33m\u001b[0m\u001b[0m\n",
      "\u001b[1;31mModuleNotFoundError\u001b[0m: No module named 'librosa.disp'"
     ]
    }
   ],
   "source": [
    "import librosa as lr\n",
    "import librosa.disp\n",
    "import librosa \n",
    "import os\n",
    "import pandas as pd\n",
    "import numpy as np\n",
    "lay\n",
    "\n",
    "import matplotlib.pyplot as plt\n",
    "\n",
    "import pickle\n",
    "\n",
    "import seaborn as sns\n",
    "\n",
    "from sklearn import preprocessing\n",
    "from sklearn.preprocessing import StandardScaler\n",
    "from sklearn.preprocessing import Normalizer\n",
    "from sklearn.model_selection import train_test_split\n",
    "from sklearn.neural_network import MLPClassifier\n",
    "from sklearn.metrics import accuracy_score\n",
    "from sklearn.metrics import classification_report\n",
    "\n",
    "import warnings\n",
    "\n",
    "warnings.simplefilter(\"ignore\")\n"
   ]
  },
  {
   "cell_type": "code",
   "execution_count": 2,
   "id": "52a99f71",
   "metadata": {},
   "outputs": [
    {
     "data": {
      "text/plain": [
       "['Actor_01', 'Actor_02', 'Actor_03', 'Actor_04', 'Actor_05']"
      ]
     },
     "execution_count": 2,
     "metadata": {},
     "output_type": "execute_result"
    }
   ],
   "source": [
    "# CREATE DIRECTORY OF AUDIO FILES \n",
    "audio = \"/Users/diebl/lab/FinalProject__RecognitionSpeechEmotion/audio_speech_actors_01-24/\"\n",
    "actor_folders = os.listdir(audio) #list files in audio directory\n",
    "actor_folders.sort() \n",
    "actor_folders[0:5]"
   ]
  },
  {
   "cell_type": "code",
   "execution_count": 3,
   "id": "ea6fbbfc",
   "metadata": {},
   "outputs": [],
   "source": [
    "# EXTRACT EMOTION NUMBER, ACTOR AND GENDER LABEL\n",
    "emotion = []\n",
    "gender = []\n",
    "actor = []\n",
    "file_path = []\n",
    "for i in actor_folders:\n",
    "    filename = os.listdir(audio + i) #iterate over Actor folders\n",
    "    for f in filename: # go through files in Actor folder\n",
    "        part = f.split('.')[0].split('-')\n",
    "        emotion.append(int(part[2]))\n",
    "        actor.append(int(part[6]))\n",
    "        bg = int(part[6])\n",
    "        if bg%2 == 0:\n",
    "            bg = \"female\"\n",
    "        else:\n",
    "            bg = \"male\"\n",
    "        gender.append(bg)\n",
    "        file_path.append(audio + i + '/' + f)"
   ]
  },
  {
   "cell_type": "code",
   "execution_count": 4,
   "id": "ef324042",
   "metadata": {},
   "outputs": [
    {
     "data": {
      "text/html": [
       "<div>\n",
       "<style scoped>\n",
       "    .dataframe tbody tr th:only-of-type {\n",
       "        vertical-align: middle;\n",
       "    }\n",
       "\n",
       "    .dataframe tbody tr th {\n",
       "        vertical-align: top;\n",
       "    }\n",
       "\n",
       "    .dataframe thead th {\n",
       "        text-align: right;\n",
       "    }\n",
       "</style>\n",
       "<table border=\"1\" class=\"dataframe\">\n",
       "  <thead>\n",
       "    <tr style=\"text-align: right;\">\n",
       "      <th></th>\n",
       "      <th>gender</th>\n",
       "      <th>emotion</th>\n",
       "      <th>actor</th>\n",
       "      <th>path</th>\n",
       "    </tr>\n",
       "  </thead>\n",
       "  <tbody>\n",
       "    <tr>\n",
       "      <th>0</th>\n",
       "      <td>male</td>\n",
       "      <td>neutral</td>\n",
       "      <td>1</td>\n",
       "      <td>/Users/diebl/lab/FinalProject__RecognitionSpee...</td>\n",
       "    </tr>\n",
       "    <tr>\n",
       "      <th>1</th>\n",
       "      <td>male</td>\n",
       "      <td>neutral</td>\n",
       "      <td>1</td>\n",
       "      <td>/Users/diebl/lab/FinalProject__RecognitionSpee...</td>\n",
       "    </tr>\n",
       "    <tr>\n",
       "      <th>2</th>\n",
       "      <td>male</td>\n",
       "      <td>neutral</td>\n",
       "      <td>1</td>\n",
       "      <td>/Users/diebl/lab/FinalProject__RecognitionSpee...</td>\n",
       "    </tr>\n",
       "    <tr>\n",
       "      <th>3</th>\n",
       "      <td>male</td>\n",
       "      <td>neutral</td>\n",
       "      <td>1</td>\n",
       "      <td>/Users/diebl/lab/FinalProject__RecognitionSpee...</td>\n",
       "    </tr>\n",
       "    <tr>\n",
       "      <th>4</th>\n",
       "      <td>male</td>\n",
       "      <td>calm</td>\n",
       "      <td>1</td>\n",
       "      <td>/Users/diebl/lab/FinalProject__RecognitionSpee...</td>\n",
       "    </tr>\n",
       "  </tbody>\n",
       "</table>\n",
       "</div>"
      ],
      "text/plain": [
       "  gender  emotion  actor                                               path\n",
       "0   male  neutral      1  /Users/diebl/lab/FinalProject__RecognitionSpee...\n",
       "1   male  neutral      1  /Users/diebl/lab/FinalProject__RecognitionSpee...\n",
       "2   male  neutral      1  /Users/diebl/lab/FinalProject__RecognitionSpee...\n",
       "3   male  neutral      1  /Users/diebl/lab/FinalProject__RecognitionSpee...\n",
       "4   male     calm      1  /Users/diebl/lab/FinalProject__RecognitionSpee..."
      ]
     },
     "execution_count": 4,
     "metadata": {},
     "output_type": "execute_result"
    }
   ],
   "source": [
    "# PUT EXTRACTED LABELS WITH FILEPATH INTO DATAFRAME\n",
    "audio_df = pd.DataFrame(emotion)\n",
    "audio_df = audio_df.replace({1:'neutral', 2:'calm', 3:'happy', 4:'sad', 5:'angry', 6:'fear', 7:'disgust', 8:'surprise'})\n",
    "audio_df = pd.concat([pd.DataFrame(gender),audio_df,pd.DataFrame(actor)],axis=1)\n",
    "audio_df.columns = ['gender','emotion','actor']\n",
    "audio_df = pd.concat([audio_df,pd.DataFrame(file_path, columns = ['path'])],axis=1)\n",
    "audio_df.head()"
   ]
  },
  {
   "cell_type": "code",
   "execution_count": 5,
   "id": "5dfcde99",
   "metadata": {},
   "outputs": [
    {
     "data": {
      "text/html": [
       "<div>\n",
       "<style scoped>\n",
       "    .dataframe tbody tr th:only-of-type {\n",
       "        vertical-align: middle;\n",
       "    }\n",
       "\n",
       "    .dataframe tbody tr th {\n",
       "        vertical-align: top;\n",
       "    }\n",
       "\n",
       "    .dataframe thead th {\n",
       "        text-align: right;\n",
       "    }\n",
       "</style>\n",
       "<table border=\"1\" class=\"dataframe\">\n",
       "  <thead>\n",
       "    <tr style=\"text-align: right;\">\n",
       "      <th></th>\n",
       "      <th>gender</th>\n",
       "      <th>emotion</th>\n",
       "      <th>actor</th>\n",
       "      <th>path</th>\n",
       "    </tr>\n",
       "  </thead>\n",
       "  <tbody>\n",
       "    <tr>\n",
       "      <th>701</th>\n",
       "      <td>female</td>\n",
       "      <td>fear</td>\n",
       "      <td>12</td>\n",
       "      <td>/Users/diebl/lab/FinalProject__RecognitionSpeechEmotion/audio_speech_actors_01-24/Actor_12/03-01-06-02-01-02-12.wav</td>\n",
       "    </tr>\n",
       "    <tr>\n",
       "      <th>604</th>\n",
       "      <td>male</td>\n",
       "      <td>calm</td>\n",
       "      <td>11</td>\n",
       "      <td>/Users/diebl/lab/FinalProject__RecognitionSpeechEmotion/audio_speech_actors_01-24/Actor_11/03-01-02-01-01-01-11.wav</td>\n",
       "    </tr>\n",
       "    <tr>\n",
       "      <th>1418</th>\n",
       "      <td>female</td>\n",
       "      <td>fear</td>\n",
       "      <td>24</td>\n",
       "      <td>/Users/diebl/lab/FinalProject__RecognitionSpeechEmotion/audio_speech_actors_01-24/Actor_24/03-01-06-01-02-01-24.wav</td>\n",
       "    </tr>\n",
       "    <tr>\n",
       "      <th>1060</th>\n",
       "      <td>female</td>\n",
       "      <td>fear</td>\n",
       "      <td>18</td>\n",
       "      <td>/Users/diebl/lab/FinalProject__RecognitionSpeechEmotion/audio_speech_actors_01-24/Actor_18/03-01-06-02-01-01-18.wav</td>\n",
       "    </tr>\n",
       "    <tr>\n",
       "      <th>174</th>\n",
       "      <td>male</td>\n",
       "      <td>surprise</td>\n",
       "      <td>3</td>\n",
       "      <td>/Users/diebl/lab/FinalProject__RecognitionSpeechEmotion/audio_speech_actors_01-24/Actor_03/03-01-08-01-02-01-03.wav</td>\n",
       "    </tr>\n",
       "    <tr>\n",
       "      <th>86</th>\n",
       "      <td>female</td>\n",
       "      <td>sad</td>\n",
       "      <td>2</td>\n",
       "      <td>/Users/diebl/lab/FinalProject__RecognitionSpeechEmotion/audio_speech_actors_01-24/Actor_02/03-01-04-02-02-01-02.wav</td>\n",
       "    </tr>\n",
       "    <tr>\n",
       "      <th>978</th>\n",
       "      <td>male</td>\n",
       "      <td>happy</td>\n",
       "      <td>17</td>\n",
       "      <td>/Users/diebl/lab/FinalProject__RecognitionSpeechEmotion/audio_speech_actors_01-24/Actor_17/03-01-03-02-02-01-17.wav</td>\n",
       "    </tr>\n",
       "    <tr>\n",
       "      <th>34</th>\n",
       "      <td>male</td>\n",
       "      <td>angry</td>\n",
       "      <td>1</td>\n",
       "      <td>/Users/diebl/lab/FinalProject__RecognitionSpeechEmotion/audio_speech_actors_01-24/Actor_01/03-01-05-02-02-01-01.wav</td>\n",
       "    </tr>\n",
       "    <tr>\n",
       "      <th>416</th>\n",
       "      <td>male</td>\n",
       "      <td>surprise</td>\n",
       "      <td>7</td>\n",
       "      <td>/Users/diebl/lab/FinalProject__RecognitionSpeechEmotion/audio_speech_actors_01-24/Actor_07/03-01-08-02-01-01-07.wav</td>\n",
       "    </tr>\n",
       "    <tr>\n",
       "      <th>958</th>\n",
       "      <td>female</td>\n",
       "      <td>surprise</td>\n",
       "      <td>16</td>\n",
       "      <td>/Users/diebl/lab/FinalProject__RecognitionSpeechEmotion/audio_speech_actors_01-24/Actor_16/03-01-08-02-02-01-16.wav</td>\n",
       "    </tr>\n",
       "  </tbody>\n",
       "</table>\n",
       "</div>"
      ],
      "text/plain": [
       "      gender   emotion  actor  \\\n",
       "701   female  fear      12      \n",
       "604   male    calm      11      \n",
       "1418  female  fear      24      \n",
       "1060  female  fear      18      \n",
       "174   male    surprise  3       \n",
       "86    female  sad       2       \n",
       "978   male    happy     17      \n",
       "34    male    angry     1       \n",
       "416   male    surprise  7       \n",
       "958   female  surprise  16      \n",
       "\n",
       "                                                                                                                     path  \n",
       "701   /Users/diebl/lab/FinalProject__RecognitionSpeechEmotion/audio_speech_actors_01-24/Actor_12/03-01-06-02-01-02-12.wav  \n",
       "604   /Users/diebl/lab/FinalProject__RecognitionSpeechEmotion/audio_speech_actors_01-24/Actor_11/03-01-02-01-01-01-11.wav  \n",
       "1418  /Users/diebl/lab/FinalProject__RecognitionSpeechEmotion/audio_speech_actors_01-24/Actor_24/03-01-06-01-02-01-24.wav  \n",
       "1060  /Users/diebl/lab/FinalProject__RecognitionSpeechEmotion/audio_speech_actors_01-24/Actor_18/03-01-06-02-01-01-18.wav  \n",
       "174   /Users/diebl/lab/FinalProject__RecognitionSpeechEmotion/audio_speech_actors_01-24/Actor_03/03-01-08-01-02-01-03.wav  \n",
       "86    /Users/diebl/lab/FinalProject__RecognitionSpeechEmotion/audio_speech_actors_01-24/Actor_02/03-01-04-02-02-01-02.wav  \n",
       "978   /Users/diebl/lab/FinalProject__RecognitionSpeechEmotion/audio_speech_actors_01-24/Actor_17/03-01-03-02-02-01-17.wav  \n",
       "34    /Users/diebl/lab/FinalProject__RecognitionSpeechEmotion/audio_speech_actors_01-24/Actor_01/03-01-05-02-02-01-01.wav  \n",
       "416   /Users/diebl/lab/FinalProject__RecognitionSpeechEmotion/audio_speech_actors_01-24/Actor_07/03-01-08-02-01-01-07.wav  \n",
       "958   /Users/diebl/lab/FinalProject__RecognitionSpeechEmotion/audio_speech_actors_01-24/Actor_16/03-01-08-02-02-01-16.wav  "
      ]
     },
     "execution_count": 5,
     "metadata": {},
     "output_type": "execute_result"
    }
   ],
   "source": [
    "# ENSURE GENDER,EMOTION, AND ACTOR COLUMN VALUES ARE CORRECT\n",
    "pd.set_option('display.max_colwidth', -1)\n",
    "#Emotion (01 = neutral, 02 = calm, 03 = happy, 04 = sad, 05 = angry, 06 = fearful, 07 = disgust, 08 = surprised).\n",
    "audio_df.sample(10)"
   ]
  },
  {
   "cell_type": "code",
   "execution_count": 6,
   "id": "796ff3fe",
   "metadata": {
    "scrolled": true
   },
   "outputs": [
    {
     "data": {
      "text/plain": [
       "<AxesSubplot:>"
      ]
     },
     "execution_count": 6,
     "metadata": {},
     "output_type": "execute_result"
    },
    {
     "data": {
      "image/png": "[encoded data removed]",
      "text/plain": [
       "<Figure size 432x288 with 1 Axes>"
      ]
     },
     "metadata": {
      "needs_background": "light"
     },
     "output_type": "display_data"
    }
   ],
   "source": [
    "# LOOK AT DISTRIBUTION OF CLASSES\n",
    "audio_df.emotion.value_counts().plot(kind='bar')"
   ]
  },
  {
   "cell_type": "code",
   "execution_count": 6,
   "id": "1efe184f",
   "metadata": {
    "scrolled": true
   },
   "outputs": [],
   "source": [
    "# ITERATE OVER ALL AUDIO FILES AND EXTRACT LOG MEL SPECTROGRAM MEAN VALUES INTO DF FOR MODELING \n",
    "df = pd.DataFrame(columns=['mel_spectrogram'])\n",
    "\n",
    "counter=0\n",
    "\n",
    "for index,path in enumerate(audio_df.path):\n",
    "    X, sample_rate = librosa.load(path, res_type='kaiser_fast',duration=3,sr=44100,offset=0.5)\n",
    "    \n",
    "    #get the mel-scaled spectrogram (transform both the y-axis (frequency) to log scale, \n",
    "    #and the “color” axis (amplitude) to Decibels, which is kinda the log scale of amplitudes.)\n",
    "    spectrogram = librosa.feature.melspectrogram(y=X, sr=sample_rate, n_mels=128,fmax=8000) \n",
    "    db_spec = librosa.power_to_db(spectrogram)\n",
    "    #temporally average spectrogram\n",
    "    log_spectrogram = np.mean(db_spec, axis = 0)\n",
    "        \n",
    "    df.loc[counter] = [log_spectrogram]\n",
    "    counter=counter+1   \n"
   ]
  },
  {
   "cell_type": "code",
   "execution_count": 7,
   "id": "9ed6cbda",
   "metadata": {
    "scrolled": true
   },
   "outputs": [
    {
     "name": "stdout",
     "output_type": "stream",
     "text": [
      "<class 'pandas.core.frame.DataFrame'>\n",
      "Int64Index: 1440 entries, 0 to 1439\n",
      "Data columns (total 1 columns):\n",
      " #   Column           Non-Null Count  Dtype \n",
      "---  ------           --------------  ----- \n",
      " 0   mel_spectrogram  1440 non-null   object\n",
      "dtypes: object(1)\n",
      "memory usage: 22.5+ KB\n"
     ]
    }
   ],
   "source": [
    "df.info()"
   ]
  },
  {
   "cell_type": "code",
   "execution_count": 8,
   "id": "423dcdfc",
   "metadata": {},
   "outputs": [],
   "source": [
    "# TURN ARRAY INTO LIST AND JOIN WITH AUDIO_DF TO GET CORRESPONDING EMOTION LABELS\n",
    "df_final = pd.concat([audio_df,pd.DataFrame(df['mel_spectrogram'].values.tolist())],axis=1)\n",
    "df_final = df_final.fillna(0)"
   ]
  },
  {
   "cell_type": "code",
   "execution_count": 9,
   "id": "cd92ec76",
   "metadata": {
    "scrolled": true
   },
   "outputs": [
    {
     "name": "stdout",
     "output_type": "stream",
     "text": [
      "<class 'pandas.core.frame.DataFrame'>\n",
      "RangeIndex: 1440 entries, 0 to 1439\n",
      "Columns: 263 entries, gender to 258\n",
      "dtypes: float64(259), int64(1), object(3)\n",
      "memory usage: 2.9+ MB\n"
     ]
    }
   ],
   "source": [
    "df_final.info()"
   ]
  },
  {
   "cell_type": "code",
   "execution_count": 10,
   "id": "515651aa",
   "metadata": {
    "scrolled": false
   },
   "outputs": [
    {
     "data": {
      "text/html": [
       "<div>\n",
       "<style scoped>\n",
       "    .dataframe tbody tr th:only-of-type {\n",
       "        vertical-align: middle;\n",
       "    }\n",
       "\n",
       "    .dataframe tbody tr th {\n",
       "        vertical-align: top;\n",
       "    }\n",
       "\n",
       "    .dataframe thead th {\n",
       "        text-align: right;\n",
       "    }\n",
       "</style>\n",
       "<table border=\"1\" class=\"dataframe\">\n",
       "  <thead>\n",
       "    <tr style=\"text-align: right;\">\n",
       "      <th></th>\n",
       "      <th>gender</th>\n",
       "      <th>emotion</th>\n",
       "      <th>actor</th>\n",
       "      <th>path</th>\n",
       "      <th>0</th>\n",
       "      <th>1</th>\n",
       "      <th>2</th>\n",
       "      <th>3</th>\n",
       "      <th>4</th>\n",
       "      <th>5</th>\n",
       "      <th>...</th>\n",
       "      <th>249</th>\n",
       "      <th>250</th>\n",
       "      <th>251</th>\n",
       "      <th>252</th>\n",
       "      <th>253</th>\n",
       "      <th>254</th>\n",
       "      <th>255</th>\n",
       "      <th>256</th>\n",
       "      <th>257</th>\n",
       "      <th>258</th>\n",
       "    </tr>\n",
       "  </thead>\n",
       "  <tbody>\n",
       "    <tr>\n",
       "      <th>0</th>\n",
       "      <td>male</td>\n",
       "      <td>neutral</td>\n",
       "      <td>1</td>\n",
       "      <td>/Users/diebl/lab/FinalProject__RecognitionSpeechEmotion/audio_speech_actors_01-24/Actor_01/03-01-01-01-01-01-01.wav</td>\n",
       "      <td>-76.384773</td>\n",
       "      <td>-76.384773</td>\n",
       "      <td>-76.384773</td>\n",
       "      <td>-76.384773</td>\n",
       "      <td>-76.384773</td>\n",
       "      <td>-76.384773</td>\n",
       "      <td>...</td>\n",
       "      <td>0.000000</td>\n",
       "      <td>0.000000</td>\n",
       "      <td>0.000000</td>\n",
       "      <td>0.000000</td>\n",
       "      <td>0.000000</td>\n",
       "      <td>0.000000</td>\n",
       "      <td>0.000000</td>\n",
       "      <td>0.000000</td>\n",
       "      <td>0.000000</td>\n",
       "      <td>0.000000</td>\n",
       "    </tr>\n",
       "    <tr>\n",
       "      <th>1</th>\n",
       "      <td>male</td>\n",
       "      <td>neutral</td>\n",
       "      <td>1</td>\n",
       "      <td>/Users/diebl/lab/FinalProject__RecognitionSpeechEmotion/audio_speech_actors_01-24/Actor_01/03-01-01-01-01-02-01.wav</td>\n",
       "      <td>-75.335518</td>\n",
       "      <td>-75.445320</td>\n",
       "      <td>-75.554031</td>\n",
       "      <td>-75.203949</td>\n",
       "      <td>-75.230530</td>\n",
       "      <td>-75.319374</td>\n",
       "      <td>...</td>\n",
       "      <td>0.000000</td>\n",
       "      <td>0.000000</td>\n",
       "      <td>0.000000</td>\n",
       "      <td>0.000000</td>\n",
       "      <td>0.000000</td>\n",
       "      <td>0.000000</td>\n",
       "      <td>0.000000</td>\n",
       "      <td>0.000000</td>\n",
       "      <td>0.000000</td>\n",
       "      <td>0.000000</td>\n",
       "    </tr>\n",
       "    <tr>\n",
       "      <th>2</th>\n",
       "      <td>male</td>\n",
       "      <td>neutral</td>\n",
       "      <td>1</td>\n",
       "      <td>/Users/diebl/lab/FinalProject__RecognitionSpeechEmotion/audio_speech_actors_01-24/Actor_01/03-01-01-01-02-01-01.wav</td>\n",
       "      <td>-75.150711</td>\n",
       "      <td>-75.150711</td>\n",
       "      <td>-75.150711</td>\n",
       "      <td>-75.150711</td>\n",
       "      <td>-75.150711</td>\n",
       "      <td>-75.150711</td>\n",
       "      <td>...</td>\n",
       "      <td>0.000000</td>\n",
       "      <td>0.000000</td>\n",
       "      <td>0.000000</td>\n",
       "      <td>0.000000</td>\n",
       "      <td>0.000000</td>\n",
       "      <td>0.000000</td>\n",
       "      <td>0.000000</td>\n",
       "      <td>0.000000</td>\n",
       "      <td>0.000000</td>\n",
       "      <td>0.000000</td>\n",
       "    </tr>\n",
       "    <tr>\n",
       "      <th>3</th>\n",
       "      <td>male</td>\n",
       "      <td>neutral</td>\n",
       "      <td>1</td>\n",
       "      <td>/Users/diebl/lab/FinalProject__RecognitionSpeechEmotion/audio_speech_actors_01-24/Actor_01/03-01-01-01-02-02-01.wav</td>\n",
       "      <td>-75.268448</td>\n",
       "      <td>-75.268448</td>\n",
       "      <td>-75.268448</td>\n",
       "      <td>-75.268448</td>\n",
       "      <td>-75.268448</td>\n",
       "      <td>-75.268448</td>\n",
       "      <td>...</td>\n",
       "      <td>0.000000</td>\n",
       "      <td>0.000000</td>\n",
       "      <td>0.000000</td>\n",
       "      <td>0.000000</td>\n",
       "      <td>0.000000</td>\n",
       "      <td>0.000000</td>\n",
       "      <td>0.000000</td>\n",
       "      <td>0.000000</td>\n",
       "      <td>0.000000</td>\n",
       "      <td>0.000000</td>\n",
       "    </tr>\n",
       "    <tr>\n",
       "      <th>4</th>\n",
       "      <td>male</td>\n",
       "      <td>calm</td>\n",
       "      <td>1</td>\n",
       "      <td>/Users/diebl/lab/FinalProject__RecognitionSpeechEmotion/audio_speech_actors_01-24/Actor_01/03-01-02-01-01-01-01.wav</td>\n",
       "      <td>-80.147377</td>\n",
       "      <td>-80.147377</td>\n",
       "      <td>-80.147377</td>\n",
       "      <td>-80.147377</td>\n",
       "      <td>-80.147377</td>\n",
       "      <td>-80.147377</td>\n",
       "      <td>...</td>\n",
       "      <td>-80.147377</td>\n",
       "      <td>-80.147377</td>\n",
       "      <td>-80.121956</td>\n",
       "      <td>-79.998009</td>\n",
       "      <td>-80.119255</td>\n",
       "      <td>-80.147377</td>\n",
       "      <td>-80.130417</td>\n",
       "      <td>-80.014702</td>\n",
       "      <td>-80.147377</td>\n",
       "      <td>-80.147377</td>\n",
       "    </tr>\n",
       "  </tbody>\n",
       "</table>\n",
       "<p>5 rows × 263 columns</p>\n",
       "</div>"
      ],
      "text/plain": [
       "  gender  emotion  actor  \\\n",
       "0  male   neutral  1       \n",
       "1  male   neutral  1       \n",
       "2  male   neutral  1       \n",
       "3  male   neutral  1       \n",
       "4  male   calm     1       \n",
       "\n",
       "                                                                                                                  path  \\\n",
       "0  /Users/diebl/lab/FinalProject__RecognitionSpeechEmotion/audio_speech_actors_01-24/Actor_01/03-01-01-01-01-01-01.wav   \n",
       "1  /Users/diebl/lab/FinalProject__RecognitionSpeechEmotion/audio_speech_actors_01-24/Actor_01/03-01-01-01-01-02-01.wav   \n",
       "2  /Users/diebl/lab/FinalProject__RecognitionSpeechEmotion/audio_speech_actors_01-24/Actor_01/03-01-01-01-02-01-01.wav   \n",
       "3  /Users/diebl/lab/FinalProject__RecognitionSpeechEmotion/audio_speech_actors_01-24/Actor_01/03-01-01-01-02-02-01.wav   \n",
       "4  /Users/diebl/lab/FinalProject__RecognitionSpeechEmotion/audio_speech_actors_01-24/Actor_01/03-01-02-01-01-01-01.wav   \n",
       "\n",
       "           0          1          2          3          4          5  ...  \\\n",
       "0 -76.384773 -76.384773 -76.384773 -76.384773 -76.384773 -76.384773  ...   \n",
       "1 -75.335518 -75.445320 -75.554031 -75.203949 -75.230530 -75.319374  ...   \n",
       "2 -75.150711 -75.150711 -75.150711 -75.150711 -75.150711 -75.150711  ...   \n",
       "3 -75.268448 -75.268448 -75.268448 -75.268448 -75.268448 -75.268448  ...   \n",
       "4 -80.147377 -80.147377 -80.147377 -80.147377 -80.147377 -80.147377  ...   \n",
       "\n",
       "         249        250        251        252        253        254  \\\n",
       "0  0.000000   0.000000   0.000000   0.000000   0.000000   0.000000    \n",
       "1  0.000000   0.000000   0.000000   0.000000   0.000000   0.000000    \n",
       "2  0.000000   0.000000   0.000000   0.000000   0.000000   0.000000    \n",
       "3  0.000000   0.000000   0.000000   0.000000   0.000000   0.000000    \n",
       "4 -80.147377 -80.147377 -80.121956 -79.998009 -80.119255 -80.147377   \n",
       "\n",
       "         255        256        257        258  \n",
       "0  0.000000   0.000000   0.000000   0.000000   \n",
       "1  0.000000   0.000000   0.000000   0.000000   \n",
       "2  0.000000   0.000000   0.000000   0.000000   \n",
       "3  0.000000   0.000000   0.000000   0.000000   \n",
       "4 -80.130417 -80.014702 -80.147377 -80.147377  \n",
       "\n",
       "[5 rows x 263 columns]"
      ]
     },
     "execution_count": 10,
     "metadata": {},
     "output_type": "execute_result"
    }
   ],
   "source": [
    "df_final.head()"
   ]
  },
  {
   "cell_type": "code",
   "execution_count": 11,
   "id": "91e25321",
   "metadata": {},
   "outputs": [],
   "source": [
    "# DROP PATH COLUMN FOR MODELING\n",
    "df_final.drop(columns='path',inplace=True)"
   ]
  },
  {
   "cell_type": "code",
   "execution_count": 27,
   "id": "0c5b01b0",
   "metadata": {},
   "outputs": [],
   "source": [
    "df_final.to_csv('mel_24_8.csv')"
   ]
  },
  {
   "cell_type": "markdown",
   "id": "8dc6fd8e",
   "metadata": {},
   "source": [
    "## MODELING"
   ]
  },
  {
   "cell_type": "code",
   "execution_count": 13,
   "id": "a526be8a",
   "metadata": {},
   "outputs": [],
   "source": [
    "# drop the target value\n",
    "X = df_final.drop('emotion', axis=1)\n",
    "y = df_final['emotion']\n"
   ]
  },
  {
   "cell_type": "code",
   "execution_count": 14,
   "id": "3d4c34e2",
   "metadata": {},
   "outputs": [
    {
     "data": {
      "text/html": [
       "<div>\n",
       "<style scoped>\n",
       "    .dataframe tbody tr th:only-of-type {\n",
       "        vertical-align: middle;\n",
       "    }\n",
       "\n",
       "    .dataframe tbody tr th {\n",
       "        vertical-align: top;\n",
       "    }\n",
       "\n",
       "    .dataframe thead th {\n",
       "        text-align: right;\n",
       "    }\n",
       "</style>\n",
       "<table border=\"1\" class=\"dataframe\">\n",
       "  <thead>\n",
       "    <tr style=\"text-align: right;\">\n",
       "      <th></th>\n",
       "      <th>actor</th>\n",
       "      <th>0</th>\n",
       "      <th>1</th>\n",
       "      <th>2</th>\n",
       "      <th>3</th>\n",
       "      <th>4</th>\n",
       "      <th>5</th>\n",
       "      <th>6</th>\n",
       "      <th>7</th>\n",
       "      <th>8</th>\n",
       "      <th>...</th>\n",
       "      <th>251</th>\n",
       "      <th>252</th>\n",
       "      <th>253</th>\n",
       "      <th>254</th>\n",
       "      <th>255</th>\n",
       "      <th>256</th>\n",
       "      <th>257</th>\n",
       "      <th>258</th>\n",
       "      <th>gender_female</th>\n",
       "      <th>gender_male</th>\n",
       "    </tr>\n",
       "  </thead>\n",
       "  <tbody>\n",
       "    <tr>\n",
       "      <th>0</th>\n",
       "      <td>1</td>\n",
       "      <td>-76.384773</td>\n",
       "      <td>-76.384773</td>\n",
       "      <td>-76.384773</td>\n",
       "      <td>-76.384773</td>\n",
       "      <td>-76.384773</td>\n",
       "      <td>-76.384773</td>\n",
       "      <td>-76.384773</td>\n",
       "      <td>-76.384773</td>\n",
       "      <td>-76.384773</td>\n",
       "      <td>...</td>\n",
       "      <td>0.000000</td>\n",
       "      <td>0.000000</td>\n",
       "      <td>0.000000</td>\n",
       "      <td>0.000000</td>\n",
       "      <td>0.000000</td>\n",
       "      <td>0.000000</td>\n",
       "      <td>0.000000</td>\n",
       "      <td>0.000000</td>\n",
       "      <td>0</td>\n",
       "      <td>1</td>\n",
       "    </tr>\n",
       "    <tr>\n",
       "      <th>1</th>\n",
       "      <td>1</td>\n",
       "      <td>-75.335518</td>\n",
       "      <td>-75.445320</td>\n",
       "      <td>-75.554031</td>\n",
       "      <td>-75.203949</td>\n",
       "      <td>-75.230530</td>\n",
       "      <td>-75.319374</td>\n",
       "      <td>-75.653793</td>\n",
       "      <td>-75.720039</td>\n",
       "      <td>-75.720039</td>\n",
       "      <td>...</td>\n",
       "      <td>0.000000</td>\n",
       "      <td>0.000000</td>\n",
       "      <td>0.000000</td>\n",
       "      <td>0.000000</td>\n",
       "      <td>0.000000</td>\n",
       "      <td>0.000000</td>\n",
       "      <td>0.000000</td>\n",
       "      <td>0.000000</td>\n",
       "      <td>0</td>\n",
       "      <td>1</td>\n",
       "    </tr>\n",
       "    <tr>\n",
       "      <th>2</th>\n",
       "      <td>1</td>\n",
       "      <td>-75.150711</td>\n",
       "      <td>-75.150711</td>\n",
       "      <td>-75.150711</td>\n",
       "      <td>-75.150711</td>\n",
       "      <td>-75.150711</td>\n",
       "      <td>-75.150711</td>\n",
       "      <td>-75.150711</td>\n",
       "      <td>-75.139587</td>\n",
       "      <td>-75.072227</td>\n",
       "      <td>...</td>\n",
       "      <td>0.000000</td>\n",
       "      <td>0.000000</td>\n",
       "      <td>0.000000</td>\n",
       "      <td>0.000000</td>\n",
       "      <td>0.000000</td>\n",
       "      <td>0.000000</td>\n",
       "      <td>0.000000</td>\n",
       "      <td>0.000000</td>\n",
       "      <td>0</td>\n",
       "      <td>1</td>\n",
       "    </tr>\n",
       "    <tr>\n",
       "      <th>3</th>\n",
       "      <td>1</td>\n",
       "      <td>-75.268448</td>\n",
       "      <td>-75.268448</td>\n",
       "      <td>-75.268448</td>\n",
       "      <td>-75.268448</td>\n",
       "      <td>-75.268448</td>\n",
       "      <td>-75.268448</td>\n",
       "      <td>-75.268448</td>\n",
       "      <td>-75.268448</td>\n",
       "      <td>-75.268448</td>\n",
       "      <td>...</td>\n",
       "      <td>0.000000</td>\n",
       "      <td>0.000000</td>\n",
       "      <td>0.000000</td>\n",
       "      <td>0.000000</td>\n",
       "      <td>0.000000</td>\n",
       "      <td>0.000000</td>\n",
       "      <td>0.000000</td>\n",
       "      <td>0.000000</td>\n",
       "      <td>0</td>\n",
       "      <td>1</td>\n",
       "    </tr>\n",
       "    <tr>\n",
       "      <th>4</th>\n",
       "      <td>1</td>\n",
       "      <td>-80.147377</td>\n",
       "      <td>-80.147377</td>\n",
       "      <td>-80.147377</td>\n",
       "      <td>-80.147377</td>\n",
       "      <td>-80.147377</td>\n",
       "      <td>-80.147377</td>\n",
       "      <td>-80.147377</td>\n",
       "      <td>-80.147377</td>\n",
       "      <td>-80.147377</td>\n",
       "      <td>...</td>\n",
       "      <td>-80.121956</td>\n",
       "      <td>-79.998009</td>\n",
       "      <td>-80.119255</td>\n",
       "      <td>-80.147377</td>\n",
       "      <td>-80.130417</td>\n",
       "      <td>-80.014702</td>\n",
       "      <td>-80.147377</td>\n",
       "      <td>-80.147377</td>\n",
       "      <td>0</td>\n",
       "      <td>1</td>\n",
       "    </tr>\n",
       "  </tbody>\n",
       "</table>\n",
       "<p>5 rows × 262 columns</p>\n",
       "</div>"
      ],
      "text/plain": [
       "   actor          0          1          2          3          4          5  \\\n",
       "0  1     -76.384773 -76.384773 -76.384773 -76.384773 -76.384773 -76.384773   \n",
       "1  1     -75.335518 -75.445320 -75.554031 -75.203949 -75.230530 -75.319374   \n",
       "2  1     -75.150711 -75.150711 -75.150711 -75.150711 -75.150711 -75.150711   \n",
       "3  1     -75.268448 -75.268448 -75.268448 -75.268448 -75.268448 -75.268448   \n",
       "4  1     -80.147377 -80.147377 -80.147377 -80.147377 -80.147377 -80.147377   \n",
       "\n",
       "           6          7          8  ...        251        252        253  \\\n",
       "0 -76.384773 -76.384773 -76.384773  ...  0.000000   0.000000   0.000000    \n",
       "1 -75.653793 -75.720039 -75.720039  ...  0.000000   0.000000   0.000000    \n",
       "2 -75.150711 -75.139587 -75.072227  ...  0.000000   0.000000   0.000000    \n",
       "3 -75.268448 -75.268448 -75.268448  ...  0.000000   0.000000   0.000000    \n",
       "4 -80.147377 -80.147377 -80.147377  ... -80.121956 -79.998009 -80.119255   \n",
       "\n",
       "         254        255        256        257        258  gender_female  \\\n",
       "0  0.000000   0.000000   0.000000   0.000000   0.000000   0               \n",
       "1  0.000000   0.000000   0.000000   0.000000   0.000000   0               \n",
       "2  0.000000   0.000000   0.000000   0.000000   0.000000   0               \n",
       "3  0.000000   0.000000   0.000000   0.000000   0.000000   0               \n",
       "4 -80.147377 -80.130417 -80.014702 -80.147377 -80.147377  0               \n",
       "\n",
       "   gender_male  \n",
       "0  1            \n",
       "1  1            \n",
       "2  1            \n",
       "3  1            \n",
       "4  1            \n",
       "\n",
       "[5 rows x 262 columns]"
      ]
     },
     "execution_count": 14,
     "metadata": {},
     "output_type": "execute_result"
    }
   ],
   "source": [
    "#encoding gender feature\n",
    "\n",
    "X= pd.get_dummies(X)\n",
    "X.head()"
   ]
  },
  {
   "cell_type": "code",
   "execution_count": 15,
   "id": "913d6459",
   "metadata": {
    "scrolled": true
   },
   "outputs": [
    {
     "name": "stdout",
     "output_type": "stream",
     "text": [
      "<class 'pandas.core.frame.DataFrame'>\n",
      "RangeIndex: 1440 entries, 0 to 1439\n",
      "Columns: 262 entries, actor to gender_male\n",
      "dtypes: float64(259), int64(1), uint8(2)\n",
      "memory usage: 2.9 MB\n"
     ]
    }
   ],
   "source": [
    "X.info()"
   ]
  },
  {
   "cell_type": "code",
   "execution_count": 16,
   "id": "1277c54d",
   "metadata": {},
   "outputs": [
    {
     "data": {
      "text/html": [
       "<div>\n",
       "<style scoped>\n",
       "    .dataframe tbody tr th:only-of-type {\n",
       "        vertical-align: middle;\n",
       "    }\n",
       "\n",
       "    .dataframe tbody tr th {\n",
       "        vertical-align: top;\n",
       "    }\n",
       "\n",
       "    .dataframe thead th {\n",
       "        text-align: right;\n",
       "    }\n",
       "</style>\n",
       "<table border=\"1\" class=\"dataframe\">\n",
       "  <thead>\n",
       "    <tr style=\"text-align: right;\">\n",
       "      <th></th>\n",
       "      <th>actor</th>\n",
       "      <th>0</th>\n",
       "      <th>1</th>\n",
       "      <th>2</th>\n",
       "      <th>3</th>\n",
       "      <th>4</th>\n",
       "      <th>5</th>\n",
       "      <th>6</th>\n",
       "      <th>7</th>\n",
       "      <th>8</th>\n",
       "      <th>...</th>\n",
       "      <th>251</th>\n",
       "      <th>252</th>\n",
       "      <th>253</th>\n",
       "      <th>254</th>\n",
       "      <th>255</th>\n",
       "      <th>256</th>\n",
       "      <th>257</th>\n",
       "      <th>258</th>\n",
       "      <th>gender_female</th>\n",
       "      <th>gender_male</th>\n",
       "    </tr>\n",
       "  </thead>\n",
       "  <tbody>\n",
       "    <tr>\n",
       "      <th>count</th>\n",
       "      <td>1440.000000</td>\n",
       "      <td>1440.000000</td>\n",
       "      <td>1440.000000</td>\n",
       "      <td>1440.000000</td>\n",
       "      <td>1440.000000</td>\n",
       "      <td>1440.000000</td>\n",
       "      <td>1440.000000</td>\n",
       "      <td>1440.000000</td>\n",
       "      <td>1440.000000</td>\n",
       "      <td>1440.000000</td>\n",
       "      <td>...</td>\n",
       "      <td>1440.000000</td>\n",
       "      <td>1440.000000</td>\n",
       "      <td>1440.000000</td>\n",
       "      <td>1440.000000</td>\n",
       "      <td>1440.000000</td>\n",
       "      <td>1440.000000</td>\n",
       "      <td>1440.000000</td>\n",
       "      <td>1440.000000</td>\n",
       "      <td>1440.000000</td>\n",
       "      <td>1440.000000</td>\n",
       "    </tr>\n",
       "    <tr>\n",
       "      <th>mean</th>\n",
       "      <td>12.500000</td>\n",
       "      <td>-65.868048</td>\n",
       "      <td>-65.698825</td>\n",
       "      <td>-65.640956</td>\n",
       "      <td>-65.568078</td>\n",
       "      <td>-65.506128</td>\n",
       "      <td>-65.419256</td>\n",
       "      <td>-65.347965</td>\n",
       "      <td>-65.302798</td>\n",
       "      <td>-65.183665</td>\n",
       "      <td>...</td>\n",
       "      <td>-51.995080</td>\n",
       "      <td>-52.063892</td>\n",
       "      <td>-49.689682</td>\n",
       "      <td>-49.746698</td>\n",
       "      <td>-49.799431</td>\n",
       "      <td>-46.947218</td>\n",
       "      <td>-46.939368</td>\n",
       "      <td>-46.965840</td>\n",
       "      <td>0.500000</td>\n",
       "      <td>0.500000</td>\n",
       "    </tr>\n",
       "    <tr>\n",
       "      <th>std</th>\n",
       "      <td>6.924591</td>\n",
       "      <td>10.371453</td>\n",
       "      <td>10.428921</td>\n",
       "      <td>10.461182</td>\n",
       "      <td>10.527195</td>\n",
       "      <td>10.585247</td>\n",
       "      <td>10.672489</td>\n",
       "      <td>10.759296</td>\n",
       "      <td>10.828546</td>\n",
       "      <td>10.889351</td>\n",
       "      <td>...</td>\n",
       "      <td>26.850166</td>\n",
       "      <td>26.844289</td>\n",
       "      <td>28.214197</td>\n",
       "      <td>28.220034</td>\n",
       "      <td>28.235346</td>\n",
       "      <td>29.606611</td>\n",
       "      <td>29.620484</td>\n",
       "      <td>29.671197</td>\n",
       "      <td>0.500174</td>\n",
       "      <td>0.500174</td>\n",
       "    </tr>\n",
       "    <tr>\n",
       "      <th>min</th>\n",
       "      <td>1.000000</td>\n",
       "      <td>-93.463219</td>\n",
       "      <td>-93.463219</td>\n",
       "      <td>-93.463219</td>\n",
       "      <td>-93.463219</td>\n",
       "      <td>-93.463219</td>\n",
       "      <td>-93.463219</td>\n",
       "      <td>-93.463219</td>\n",
       "      <td>-93.463219</td>\n",
       "      <td>-93.463219</td>\n",
       "      <td>...</td>\n",
       "      <td>-91.494263</td>\n",
       "      <td>-92.346512</td>\n",
       "      <td>-92.707253</td>\n",
       "      <td>-90.854004</td>\n",
       "      <td>-91.525177</td>\n",
       "      <td>-91.248116</td>\n",
       "      <td>-91.135559</td>\n",
       "      <td>-93.463219</td>\n",
       "      <td>0.000000</td>\n",
       "      <td>0.000000</td>\n",
       "    </tr>\n",
       "    <tr>\n",
       "      <th>25%</th>\n",
       "      <td>6.750000</td>\n",
       "      <td>-73.483334</td>\n",
       "      <td>-73.275942</td>\n",
       "      <td>-73.277733</td>\n",
       "      <td>-73.272263</td>\n",
       "      <td>-73.355021</td>\n",
       "      <td>-73.393129</td>\n",
       "      <td>-73.326874</td>\n",
       "      <td>-73.302509</td>\n",
       "      <td>-73.337681</td>\n",
       "      <td>...</td>\n",
       "      <td>-70.129290</td>\n",
       "      <td>-70.161228</td>\n",
       "      <td>-69.615944</td>\n",
       "      <td>-69.660076</td>\n",
       "      <td>-69.851355</td>\n",
       "      <td>-69.312422</td>\n",
       "      <td>-69.370422</td>\n",
       "      <td>-69.402653</td>\n",
       "      <td>0.000000</td>\n",
       "      <td>0.000000</td>\n",
       "    </tr>\n",
       "    <tr>\n",
       "      <th>50%</th>\n",
       "      <td>12.500000</td>\n",
       "      <td>-66.796566</td>\n",
       "      <td>-66.612537</td>\n",
       "      <td>-66.496750</td>\n",
       "      <td>-66.500889</td>\n",
       "      <td>-66.480679</td>\n",
       "      <td>-66.398308</td>\n",
       "      <td>-66.233547</td>\n",
       "      <td>-66.253014</td>\n",
       "      <td>-66.041084</td>\n",
       "      <td>...</td>\n",
       "      <td>-62.608332</td>\n",
       "      <td>-62.740196</td>\n",
       "      <td>-61.675755</td>\n",
       "      <td>-61.680185</td>\n",
       "      <td>-61.773211</td>\n",
       "      <td>-60.280519</td>\n",
       "      <td>-60.280519</td>\n",
       "      <td>-60.187666</td>\n",
       "      <td>0.500000</td>\n",
       "      <td>0.500000</td>\n",
       "    </tr>\n",
       "    <tr>\n",
       "      <th>75%</th>\n",
       "      <td>18.250000</td>\n",
       "      <td>-59.451980</td>\n",
       "      <td>-58.952798</td>\n",
       "      <td>-58.818537</td>\n",
       "      <td>-58.793196</td>\n",
       "      <td>-58.693053</td>\n",
       "      <td>-58.254225</td>\n",
       "      <td>-58.307713</td>\n",
       "      <td>-58.256474</td>\n",
       "      <td>-57.992487</td>\n",
       "      <td>...</td>\n",
       "      <td>-48.034685</td>\n",
       "      <td>-47.641583</td>\n",
       "      <td>-41.252725</td>\n",
       "      <td>-41.633215</td>\n",
       "      <td>-42.640772</td>\n",
       "      <td>0.000000</td>\n",
       "      <td>0.000000</td>\n",
       "      <td>0.000000</td>\n",
       "      <td>1.000000</td>\n",
       "      <td>1.000000</td>\n",
       "    </tr>\n",
       "    <tr>\n",
       "      <th>max</th>\n",
       "      <td>24.000000</td>\n",
       "      <td>-29.005959</td>\n",
       "      <td>-28.733444</td>\n",
       "      <td>-29.339039</td>\n",
       "      <td>-30.352173</td>\n",
       "      <td>-31.362858</td>\n",
       "      <td>-30.006647</td>\n",
       "      <td>-24.170176</td>\n",
       "      <td>-19.226366</td>\n",
       "      <td>-20.815470</td>\n",
       "      <td>...</td>\n",
       "      <td>0.000000</td>\n",
       "      <td>0.000000</td>\n",
       "      <td>0.000000</td>\n",
       "      <td>0.000000</td>\n",
       "      <td>0.000000</td>\n",
       "      <td>0.000000</td>\n",
       "      <td>0.000000</td>\n",
       "      <td>0.000000</td>\n",
       "      <td>1.000000</td>\n",
       "      <td>1.000000</td>\n",
       "    </tr>\n",
       "  </tbody>\n",
       "</table>\n",
       "<p>8 rows × 262 columns</p>\n",
       "</div>"
      ],
      "text/plain": [
       "             actor            0            1            2            3  \\\n",
       "count  1440.000000  1440.000000  1440.000000  1440.000000  1440.000000   \n",
       "mean   12.500000   -65.868048   -65.698825   -65.640956   -65.568078     \n",
       "std    6.924591     10.371453    10.428921    10.461182    10.527195     \n",
       "min    1.000000    -93.463219   -93.463219   -93.463219   -93.463219     \n",
       "25%    6.750000    -73.483334   -73.275942   -73.277733   -73.272263     \n",
       "50%    12.500000   -66.796566   -66.612537   -66.496750   -66.500889     \n",
       "75%    18.250000   -59.451980   -58.952798   -58.818537   -58.793196     \n",
       "max    24.000000   -29.005959   -28.733444   -29.339039   -30.352173     \n",
       "\n",
       "                 4            5            6            7            8  ...  \\\n",
       "count  1440.000000  1440.000000  1440.000000  1440.000000  1440.000000  ...   \n",
       "mean  -65.506128   -65.419256   -65.347965   -65.302798   -65.183665    ...   \n",
       "std    10.585247    10.672489    10.759296    10.828546    10.889351    ...   \n",
       "min   -93.463219   -93.463219   -93.463219   -93.463219   -93.463219    ...   \n",
       "25%   -73.355021   -73.393129   -73.326874   -73.302509   -73.337681    ...   \n",
       "50%   -66.480679   -66.398308   -66.233547   -66.253014   -66.041084    ...   \n",
       "75%   -58.693053   -58.254225   -58.307713   -58.256474   -57.992487    ...   \n",
       "max   -31.362858   -30.006647   -24.170176   -19.226366   -20.815470    ...   \n",
       "\n",
       "               251          252          253          254          255  \\\n",
       "count  1440.000000  1440.000000  1440.000000  1440.000000  1440.000000   \n",
       "mean  -51.995080   -52.063892   -49.689682   -49.746698   -49.799431     \n",
       "std    26.850166    26.844289    28.214197    28.220034    28.235346     \n",
       "min   -91.494263   -92.346512   -92.707253   -90.854004   -91.525177     \n",
       "25%   -70.129290   -70.161228   -69.615944   -69.660076   -69.851355     \n",
       "50%   -62.608332   -62.740196   -61.675755   -61.680185   -61.773211     \n",
       "75%   -48.034685   -47.641583   -41.252725   -41.633215   -42.640772     \n",
       "max    0.000000     0.000000     0.000000     0.000000     0.000000      \n",
       "\n",
       "               256          257          258  gender_female  gender_male  \n",
       "count  1440.000000  1440.000000  1440.000000  1440.000000    1440.000000  \n",
       "mean  -46.947218   -46.939368   -46.965840    0.500000       0.500000     \n",
       "std    29.606611    29.620484    29.671197    0.500174       0.500174     \n",
       "min   -91.248116   -91.135559   -93.463219    0.000000       0.000000     \n",
       "25%   -69.312422   -69.370422   -69.402653    0.000000       0.000000     \n",
       "50%   -60.280519   -60.280519   -60.187666    0.500000       0.500000     \n",
       "75%    0.000000     0.000000     0.000000     1.000000       1.000000     \n",
       "max    0.000000     0.000000     0.000000     1.000000       1.000000     \n",
       "\n",
       "[8 rows x 262 columns]"
      ]
     },
     "execution_count": 16,
     "metadata": {},
     "output_type": "execute_result"
    }
   ],
   "source": [
    "X.describe()"
   ]
  },
  {
   "cell_type": "code",
   "execution_count": 15,
   "id": "7cd4d52a",
   "metadata": {},
   "outputs": [],
   "source": [
    "X1 = X.copy()\n",
    "X2 = X.copy()"
   ]
  },
  {
   "cell_type": "code",
   "execution_count": 16,
   "id": "85cc831e",
   "metadata": {},
   "outputs": [],
   "source": [
    "X_train, X_test, y_train, y_test = train_test_split(X, y, test_size=0.2, random_state=42)"
   ]
  },
  {
   "cell_type": "code",
   "execution_count": 17,
   "id": "7ece4a45",
   "metadata": {},
   "outputs": [],
   "source": [
    "model = MLPClassifier(hidden_layer_sizes=(200,), learning_rate='adaptive', max_iter=400)"
   ]
  },
  {
   "cell_type": "code",
   "execution_count": 18,
   "id": "bc348fb8",
   "metadata": {},
   "outputs": [
    {
     "data": {
      "text/plain": [
       "MLPClassifier(hidden_layer_sizes=(200,), learning_rate='adaptive', max_iter=400)"
      ]
     },
     "execution_count": 18,
     "metadata": {},
     "output_type": "execute_result"
    }
   ],
   "source": [
    "model.fit(X_train, y_train)"
   ]
  },
  {
   "cell_type": "code",
   "execution_count": 19,
   "id": "421457f9",
   "metadata": {},
   "outputs": [
    {
     "name": "stdout",
     "output_type": "stream",
     "text": [
      "Accuracy of the Recognizer is: 28.1%\n"
     ]
    }
   ],
   "source": [
    "y_pred = model.predict(X_test)\n",
    "accuracy = accuracy_score(y_true=y_test, y_pred=y_pred)\n",
    "print(\"Accuracy of the Recognizer is: {:.1f}%\".format(accuracy*100))"
   ]
  },
  {
   "cell_type": "markdown",
   "id": "c8126813",
   "metadata": {},
   "source": [
    "Analysis of the accuracy : \n",
    "\n",
    "the model doesn't detect happy, suprised and fearful at all.\n",
    "\n",
    "angry ->recall\n",
    "calm -> precision "
   ]
  },
  {
   "cell_type": "code",
   "execution_count": 20,
   "id": "b39c81d4",
   "metadata": {},
   "outputs": [
    {
     "name": "stdout",
     "output_type": "stream",
     "text": [
      "              precision    recall  f1-score   support\n",
      "\n",
      "     neutral       0.11      0.10      0.10        20\n",
      "        calm       0.45      0.41      0.43        44\n",
      "       happy       0.31      0.15      0.20        34\n",
      "         sad       0.24      0.36      0.29        39\n",
      "       angry       0.50      0.45      0.48        42\n",
      "     fearful       0.00      0.00      0.00         0\n",
      "     disgust       0.33      0.22      0.26        32\n",
      "   surprised       0.00      0.00      0.00         0\n",
      "\n",
      "   micro avg       0.34      0.31      0.32       211\n",
      "   macro avg       0.24      0.21      0.22       211\n",
      "weighted avg       0.35      0.31      0.32       211\n",
      "\n"
     ]
    }
   ],
   "source": [
    "emotions = ['neutral','calm', 'happy', 'sad', 'angry', 'fearful', 'disgust', 'surprised']\n",
    "print(classification_report(y_test, y_pred, labels=['neutral','calm', 'happy', 'sad', 'angry', 'fearful', 'disgust', 'surprised']))"
   ]
  },
  {
   "cell_type": "code",
   "execution_count": 21,
   "id": "76823f7c",
   "metadata": {
    "scrolled": true
   },
   "outputs": [
    {
     "name": "stdout",
     "output_type": "stream",
     "text": [
      "y_test[10:30]=589     disgust \n",
      "115     surprise\n",
      "1223    sad     \n",
      "940     fear    \n",
      "141     sad     \n",
      "1305    disgust \n",
      "695     angry   \n",
      "756     fear    \n",
      "306     calm    \n",
      "350     disgust \n",
      "1192    surprise\n",
      "1023    neutral \n",
      "1140    neutral \n",
      "620     sad     \n",
      "819     fear    \n",
      "746     sad     \n",
      "654     surprise\n",
      "415     surprise\n",
      "51      disgust \n",
      "270     angry   \n",
      "Name: emotion, dtype: object\n",
      "y_pred[10:30]=['disgust' 'happy' 'disgust' 'angry' 'sad' 'sad' 'angry' 'fear' 'sad'\n",
      " 'calm' 'fear' 'fear' 'sad' 'neutral' 'fear' 'neutral' 'fear' 'angry'\n",
      " 'fear' 'calm']\n"
     ]
    }
   ],
   "source": [
    "\"\"\"\"checking the results that we get : we can notice that the model is not good at predicting all the emotions. \n",
    " It predicts \"disgust\" or \"angry more than the other emotions.\"\"\"\n",
    "\n",
    "\n",
    "print(f\"y_test[10:30]={y_test[10:30]}\")\n",
    "print(f\"y_pred[10:30]={y_pred[10:30]}\")"
   ]
  },
  {
   "cell_type": "markdown",
   "id": "cafc6418",
   "metadata": {},
   "source": [
    "## Improving the model"
   ]
  },
  {
   "cell_type": "code",
   "execution_count": 50,
   "id": "d9a117b0",
   "metadata": {
    "scrolled": true
   },
   "outputs": [
    {
     "data": {
      "image/png": "[encoded data removed]",
      "text/plain": [
       "<Figure size 432x288 with 1 Axes>"
      ]
     },
     "metadata": {
      "needs_background": "light"
     },
     "output_type": "display_data"
    }
   ],
   "source": [
    "sns.distplot(df_final[94], bins=40)\n",
    "plt.show()\n",
    "\n",
    "\n"
   ]
  },
  {
   "cell_type": "markdown",
   "id": "f6e43afa",
   "metadata": {},
   "source": [
    "**with standardization**"
   ]
  },
  {
   "cell_type": "code",
   "execution_count": 23,
   "id": "b7371801",
   "metadata": {},
   "outputs": [],
   "source": [
    "X1_train, X1_test, y1_train, y1_test = train_test_split(X1, y, test_size=0.2, random_state=42)"
   ]
  },
  {
   "cell_type": "code",
   "execution_count": 24,
   "id": "962510e7",
   "metadata": {},
   "outputs": [],
   "source": [
    "#standardization\n",
    "\n",
    "transformer = StandardScaler()\n",
    "transformer.fit(X1_train)\n",
    "\n",
    "# saving in a pickle\n",
    "with open('std_transformer1.pickle', 'wb') as file:\n",
    "    pickle.dump(transformer, file)\n",
    "    \n",
    "# loading from a pickle  \n",
    "with open('std_transformer1.pickle', 'rb') as file:\n",
    "    loaded_standardized = pickle.load(file)\n",
    "\n",
    "X1_train = loaded_standardized.transform(X1_train)\n",
    "X1_test = loaded_standardized.transform(X1_test)"
   ]
  },
  {
   "cell_type": "code",
   "execution_count": 25,
   "id": "21779216",
   "metadata": {},
   "outputs": [],
   "source": [
    "model = MLPClassifier(hidden_layer_sizes=(200,), learning_rate='adaptive', max_iter=400)"
   ]
  },
  {
   "cell_type": "code",
   "execution_count": 27,
   "id": "780fa2f1",
   "metadata": {
    "scrolled": true
   },
   "outputs": [
    {
     "data": {
      "text/plain": [
       "MLPClassifier(hidden_layer_sizes=(200,), learning_rate='adaptive', max_iter=400)"
      ]
     },
     "execution_count": 27,
     "metadata": {},
     "output_type": "execute_result"
    }
   ],
   "source": [
    "model.fit(X1_train, y1_train)"
   ]
  },
  {
   "cell_type": "code",
   "execution_count": 28,
   "id": "f6a7ee6e",
   "metadata": {},
   "outputs": [
    {
     "name": "stdout",
     "output_type": "stream",
     "text": [
      "Accuracy of the Recognizer is: 48.3%\n"
     ]
    }
   ],
   "source": [
    "y_pred = model.predict(X1_test)\n",
    "accuracy = accuracy_score(y_true=y_test, y_pred=y_pred)\n",
    "print(\"Accuracy of the Recognizer is: {:.1f}%\".format(accuracy*100))"
   ]
  },
  {
   "cell_type": "code",
   "execution_count": 29,
   "id": "243e111b",
   "metadata": {},
   "outputs": [
    {
     "name": "stdout",
     "output_type": "stream",
     "text": [
      "              precision    recall  f1-score   support\n",
      "\n",
      "     neutral       0.35      0.45      0.39        20\n",
      "        calm       0.72      0.66      0.69        44\n",
      "       happy       0.33      0.50      0.40        34\n",
      "         sad       0.39      0.38      0.39        39\n",
      "       angry       0.61      0.60      0.60        42\n",
      "     fearful       0.00      0.00      0.00         0\n",
      "     disgust       0.48      0.41      0.44        32\n",
      "   surprised       0.00      0.00      0.00         0\n",
      "\n",
      "   micro avg       0.48      0.51      0.50       211\n",
      "   macro avg       0.36      0.37      0.36       211\n",
      "weighted avg       0.50      0.51      0.50       211\n",
      "\n"
     ]
    }
   ],
   "source": [
    "print(classification_report(y_test, y_pred, labels=['neutral','calm', 'happy', 'sad', 'angry', 'fearful', 'disgust', 'surprised']))"
   ]
  },
  {
   "cell_type": "markdown",
   "id": "5f8dbc19",
   "metadata": {},
   "source": [
    "**with normalization**"
   ]
  },
  {
   "cell_type": "code",
   "execution_count": 30,
   "id": "cdf70e12",
   "metadata": {},
   "outputs": [],
   "source": [
    "X2_train, X2_test, y2_train, y2_test = train_test_split(X2, y, test_size=0.2, random_state=42)"
   ]
  },
  {
   "cell_type": "code",
   "execution_count": 31,
   "id": "66bc7376",
   "metadata": {},
   "outputs": [],
   "source": [
    "#normalization\n",
    "\n",
    "transformer = Normalizer()\n",
    "transformer.fit(X2_train)\n",
    "\n",
    "# saving in a pickle\n",
    "with open('std_transformer2.pickle', 'wb') as file:\n",
    "    pickle.dump(transformer, file)\n",
    "    \n",
    "# loading from a pickle  \n",
    "with open('std_transformer2.pickle', 'rb') as file:\n",
    "    loaded_normalizer = pickle.load(file)\n",
    "\n",
    "X_train_ = loaded_normalizer.transform(X2_train)\n",
    "X_test_ = loaded_normalizer.transform(X2_test)"
   ]
  },
  {
   "cell_type": "code",
   "execution_count": 32,
   "id": "e9e5aed3",
   "metadata": {},
   "outputs": [],
   "source": [
    "model = MLPClassifier(hidden_layer_sizes=(200,), learning_rate='adaptive', max_iter=400)"
   ]
  },
  {
   "cell_type": "code",
   "execution_count": 33,
   "id": "f5c15a7d",
   "metadata": {},
   "outputs": [
    {
     "data": {
      "text/plain": [
       "MLPClassifier(hidden_layer_sizes=(200,), learning_rate='adaptive', max_iter=400)"
      ]
     },
     "execution_count": 33,
     "metadata": {},
     "output_type": "execute_result"
    }
   ],
   "source": [
    "model.fit(X1_train, y1_train)"
   ]
  },
  {
   "cell_type": "code",
   "execution_count": 34,
   "id": "c48f79af",
   "metadata": {},
   "outputs": [
    {
     "name": "stdout",
     "output_type": "stream",
     "text": [
      "Accuracy of the Recognizer is: 44.8%\n"
     ]
    }
   ],
   "source": [
    "y_pred = model.predict(X1_test)\n",
    "accuracy = accuracy_score(y_true=y_test, y_pred=y_pred)\n",
    "print(\"Accuracy of the Recognizer is: {:.1f}%\".format(accuracy*100))"
   ]
  },
  {
   "cell_type": "code",
   "execution_count": 35,
   "id": "1238d83c",
   "metadata": {},
   "outputs": [
    {
     "name": "stdout",
     "output_type": "stream",
     "text": [
      "              precision    recall  f1-score   support\n",
      "\n",
      "     neutral       0.29      0.45      0.35        20\n",
      "        calm       0.63      0.61      0.62        44\n",
      "       happy       0.33      0.53      0.41        34\n",
      "         sad       0.34      0.26      0.29        39\n",
      "       angry       0.62      0.60      0.61        42\n",
      "     fearful       0.00      0.00      0.00         0\n",
      "     disgust       0.43      0.31      0.36        32\n",
      "   surprised       0.00      0.00      0.00         0\n",
      "\n",
      "   micro avg       0.45      0.47      0.46       211\n",
      "   macro avg       0.33      0.34      0.33       211\n",
      "weighted avg       0.47      0.47      0.46       211\n",
      "\n"
     ]
    }
   ],
   "source": [
    "print(classification_report(y_test, y_pred, labels=['neutral','calm', 'happy', 'sad', 'angry', 'fearful', 'disgust', 'surprised']))"
   ]
  },
  {
   "cell_type": "markdown",
   "id": "9ce1af65",
   "metadata": {},
   "source": [
    "## With other features in addition to mel spectogramm : signal, spectrum and pitches"
   ]
  },
  {
   "cell_type": "code",
   "execution_count": null,
   "id": "428d3fd6",
   "metadata": {},
   "outputs": [],
   "source": [
    "time = np.arange(0,len(y))/sr\n",
    "\n",
    "S = np.abs(librosa.stft(y))\n",
    "\n",
    "pitches, magnitudes = lr.piptrack(y=y, sr=sr)\n",
    "\n",
    "spectrogram = librosa.feature.melspectrogram(y=X, sr=sample_rate, n_mels=128,fmax=8000\n"
   ]
  },
  {
   "cell_type": "code",
   "execution_count": 43,
   "id": "5a94a636",
   "metadata": {},
   "outputs": [
    {
     "ename": "IndentationError",
     "evalue": "unindent does not match any outer indentation level (<tokenize>, line 16)",
     "output_type": "error",
     "traceback": [
      "\u001b[1;36m  File \u001b[1;32m\"<tokenize>\"\u001b[1;36m, line \u001b[1;32m16\u001b[0m\n\u001b[1;33m    \"\"\"\"\u001b[0m\n\u001b[1;37m    ^\u001b[0m\n\u001b[1;31mIndentationError\u001b[0m\u001b[1;31m:\u001b[0m unindent does not match any outer indentation level\n"
     ]
    }
   ],
   "source": [
    "# ITERATE OVER ALL AUDIO FILES AND EXTRACT LOG MEL SPECTROGRAM MEAN VALUES INTO DF FOR MODELING \n",
    "df1 = pd.DataFrame(columns=['mel_specto' ])\n",
    "\n",
    "counter=0\n",
    "\n",
    "for index,path in enumerate(audio_df.path):\n",
    "    X, sample_rate = librosa.load(path, res_type='kaiser_fast',duration=3,sr=44100,offset=0.5)\n",
    "    \n",
    "    #get the mel-scaled spectrogram (transform both the y-axis (frequency) to log scale, \n",
    "    \n",
    "    spectrogram = librosa.feature.melspectrogram(y=X, sr=sample_rate, n_mels=128,fmax=8000) \n",
    "  \n",
    "        \n",
    "    df.loc[counter] = [spectrogram]\n",
    "    counter=counter+1   \n",
    " \"\"\"\"   \n",
    "for index,path in enumerate(audio_df.path):\n",
    "    X, sample_rate = librosa.load(path, res_type='kaiser_fast',duration=3,sr=44100,offset=0.5)\n",
    "    \n",
    "    #get the mel-scaled spectrogram (transform both the y-axis (frequency) to log scale, \n",
    "    \n",
    "    time = np.arange(0,len(y))/sr\n",
    "     \n",
    "        \n",
    "    df.loc[counter] = [time]\n",
    "    counter=counter+1\n",
    "    \n",
    "for index,path in enumerate(audio_df.path):\n",
    "    X, sample_rate = librosa.load(path, res_type='kaiser_fast',duration=3,sr=44100,offset=0.5)\n",
    "    \n",
    "    #get the mel-scaled spectrogram (transform both the y-axis (frequency) to log scale, \n",
    "    \n",
    "    S = np.abs(librosa.stft(y))\n",
    "     \n",
    "        \n",
    "    df.loc[counter] = [spectrum]\n",
    "    counter=counter+1\n",
    "    \n",
    "for index,path in enumerate(audio_df.path):\n",
    "    X, sample_rate = librosa.load(path, res_type='kaiser_fast',duration=3,sr=44100,offset=0.5)\n",
    "    \n",
    "    #get the mel-scaled spectrogram (transform both the y-axis (frequency) to log scale, \n",
    "    \n",
    "    pitches, magnitudes = lr.piptrack(y=y, sr=sr)\n",
    "     \n",
    "        \n",
    "    df.loc[counter] = [pitches]\n",
    "    counter=counter+1\n",
    "    \"\"\""
   ]
  },
  {
   "cell_type": "code",
   "execution_count": 44,
   "id": "93c3978d",
   "metadata": {},
   "outputs": [
    {
     "ename": "NameError",
     "evalue": "name 'sr' is not defined",
     "output_type": "error",
     "traceback": [
      "\u001b[1;31m---------------------------------------------------------------------------\u001b[0m",
      "\u001b[1;31mNameError\u001b[0m                                 Traceback (most recent call last)",
      "\u001b[1;32m<ipython-input-44-18383472d14e>\u001b[0m in \u001b[0;36m<module>\u001b[1;34m\u001b[0m\n\u001b[0;32m      6\u001b[0m \u001b[1;33m\u001b[0m\u001b[0m\n\u001b[0;32m      7\u001b[0m \u001b[1;33m\u001b[0m\u001b[0m\n\u001b[1;32m----> 8\u001b[1;33m     \u001b[0mtime\u001b[0m \u001b[1;33m=\u001b[0m \u001b[0mnp\u001b[0m\u001b[1;33m.\u001b[0m\u001b[0marange\u001b[0m\u001b[1;33m(\u001b[0m\u001b[1;36m0\u001b[0m\u001b[1;33m,\u001b[0m\u001b[0mlen\u001b[0m\u001b[1;33m(\u001b[0m\u001b[0my\u001b[0m\u001b[1;33m)\u001b[0m\u001b[1;33m)\u001b[0m\u001b[1;33m/\u001b[0m\u001b[0msr\u001b[0m\u001b[1;33m\u001b[0m\u001b[1;33m\u001b[0m\u001b[0m\n\u001b[0m\u001b[0;32m      9\u001b[0m \u001b[1;33m\u001b[0m\u001b[0m\n\u001b[0;32m     10\u001b[0m \u001b[1;33m\u001b[0m\u001b[0m\n",
      "\u001b[1;31mNameError\u001b[0m: name 'sr' is not defined"
     ]
    }
   ],
   "source": [
    "df2 = pd.DataFrame(columns=['time' ])\n",
    "\n",
    "counter=0\n",
    "for index,path in enumerate(audio_df.path):\n",
    "    X, sample_rate = librosa.load(path, res_type='kaiser_fast',duration=3,sr=44100,offset=0.5)\n",
    "     \n",
    "    \n",
    "    time = np.arange(0,len(y))/sr\n",
    "     \n",
    "        \n",
    "    df.loc[counter] = [time]\n",
    "    counter=counter+1\n",
    "    "
   ]
  },
  {
   "cell_type": "code",
   "execution_count": 46,
   "id": "5d5dfa1b",
   "metadata": {},
   "outputs": [
    {
     "ename": "ParameterError",
     "evalue": "Audio data must be of type numpy.ndarray",
     "output_type": "error",
     "traceback": [
      "\u001b[1;31m---------------------------------------------------------------------------\u001b[0m",
      "\u001b[1;31mParameterError\u001b[0m                            Traceback (most recent call last)",
      "\u001b[1;32m<ipython-input-46-b55b85c10b8c>\u001b[0m in \u001b[0;36m<module>\u001b[1;34m\u001b[0m\n\u001b[0;32m      6\u001b[0m \u001b[1;33m\u001b[0m\u001b[0m\n\u001b[0;32m      7\u001b[0m \u001b[1;33m\u001b[0m\u001b[0m\n\u001b[1;32m----> 8\u001b[1;33m     \u001b[0mS\u001b[0m \u001b[1;33m=\u001b[0m \u001b[0mnp\u001b[0m\u001b[1;33m.\u001b[0m\u001b[0mabs\u001b[0m\u001b[1;33m(\u001b[0m\u001b[0mlibrosa\u001b[0m\u001b[1;33m.\u001b[0m\u001b[0mstft\u001b[0m\u001b[1;33m(\u001b[0m\u001b[0my\u001b[0m\u001b[1;33m)\u001b[0m\u001b[1;33m)\u001b[0m\u001b[1;33m\u001b[0m\u001b[1;33m\u001b[0m\u001b[0m\n\u001b[0m\u001b[0;32m      9\u001b[0m \u001b[1;33m\u001b[0m\u001b[0m\n\u001b[0;32m     10\u001b[0m \u001b[1;33m\u001b[0m\u001b[0m\n",
      "\u001b[1;32mc:\\users\\diebl\\appdata\\local\\programs\\python\\python39\\lib\\site-packages\\librosa\\core\\spectrum.py\u001b[0m in \u001b[0;36mstft\u001b[1;34m(y, n_fft, hop_length, win_length, window, center, dtype, pad_mode)\u001b[0m\n\u001b[0;32m    215\u001b[0m \u001b[1;33m\u001b[0m\u001b[0m\n\u001b[0;32m    216\u001b[0m     \u001b[1;31m# Check audio is valid\u001b[0m\u001b[1;33m\u001b[0m\u001b[1;33m\u001b[0m\u001b[1;33m\u001b[0m\u001b[0m\n\u001b[1;32m--> 217\u001b[1;33m     \u001b[0mutil\u001b[0m\u001b[1;33m.\u001b[0m\u001b[0mvalid_audio\u001b[0m\u001b[1;33m(\u001b[0m\u001b[0my\u001b[0m\u001b[1;33m)\u001b[0m\u001b[1;33m\u001b[0m\u001b[1;33m\u001b[0m\u001b[0m\n\u001b[0m\u001b[0;32m    218\u001b[0m \u001b[1;33m\u001b[0m\u001b[0m\n\u001b[0;32m    219\u001b[0m     \u001b[1;31m# Pad the time series so that frames are centered\u001b[0m\u001b[1;33m\u001b[0m\u001b[1;33m\u001b[0m\u001b[1;33m\u001b[0m\u001b[0m\n",
      "\u001b[1;32mc:\\users\\diebl\\appdata\\local\\programs\\python\\python39\\lib\\site-packages\\librosa\\util\\utils.py\u001b[0m in \u001b[0;36mvalid_audio\u001b[1;34m(y, mono)\u001b[0m\n\u001b[0;32m    285\u001b[0m \u001b[1;33m\u001b[0m\u001b[0m\n\u001b[0;32m    286\u001b[0m     \u001b[1;32mif\u001b[0m \u001b[1;32mnot\u001b[0m \u001b[0misinstance\u001b[0m\u001b[1;33m(\u001b[0m\u001b[0my\u001b[0m\u001b[1;33m,\u001b[0m \u001b[0mnp\u001b[0m\u001b[1;33m.\u001b[0m\u001b[0mndarray\u001b[0m\u001b[1;33m)\u001b[0m\u001b[1;33m:\u001b[0m\u001b[1;33m\u001b[0m\u001b[1;33m\u001b[0m\u001b[0m\n\u001b[1;32m--> 287\u001b[1;33m         \u001b[1;32mraise\u001b[0m \u001b[0mParameterError\u001b[0m\u001b[1;33m(\u001b[0m\u001b[1;34m\"Audio data must be of type numpy.ndarray\"\u001b[0m\u001b[1;33m)\u001b[0m\u001b[1;33m\u001b[0m\u001b[1;33m\u001b[0m\u001b[0m\n\u001b[0m\u001b[0;32m    288\u001b[0m \u001b[1;33m\u001b[0m\u001b[0m\n\u001b[0;32m    289\u001b[0m     \u001b[1;32mif\u001b[0m \u001b[1;32mnot\u001b[0m \u001b[0mnp\u001b[0m\u001b[1;33m.\u001b[0m\u001b[0missubdtype\u001b[0m\u001b[1;33m(\u001b[0m\u001b[0my\u001b[0m\u001b[1;33m.\u001b[0m\u001b[0mdtype\u001b[0m\u001b[1;33m,\u001b[0m \u001b[0mnp\u001b[0m\u001b[1;33m.\u001b[0m\u001b[0mfloating\u001b[0m\u001b[1;33m)\u001b[0m\u001b[1;33m:\u001b[0m\u001b[1;33m\u001b[0m\u001b[1;33m\u001b[0m\u001b[0m\n",
      "\u001b[1;31mParameterError\u001b[0m: Audio data must be of type numpy.ndarray"
     ]
    }
   ],
   "source": [
    "df3 = pd.DataFrame(columns=['spectrum' ])\n",
    "counter=0\n",
    "for index,path in enumerate(audio_df.path):\n",
    "    \n",
    "    X, sample_rate = librosa.load(path, res_type='kaiser_fast',duration=3,sr=44100,offset=0.5)\n",
    "    \n",
    " \n",
    "    S = np.abs(librosa.stft(y))\n",
    "     \n",
    "        \n",
    "    df.loc[counter] = [spectrum]\n",
    "    counter=counter+1"
   ]
  },
  {
   "cell_type": "code",
   "execution_count": 48,
   "id": "e16ee75e",
   "metadata": {},
   "outputs": [
    {
     "ename": "NameError",
     "evalue": "name 'sr' is not defined",
     "output_type": "error",
     "traceback": [
      "\u001b[1;31m---------------------------------------------------------------------------\u001b[0m",
      "\u001b[1;31mNameError\u001b[0m                                 Traceback (most recent call last)",
      "\u001b[1;32m<ipython-input-48-8b69a83384aa>\u001b[0m in \u001b[0;36m<module>\u001b[1;34m\u001b[0m\n\u001b[0;32m      7\u001b[0m     \u001b[1;31m#get the mel-scaled spectrogram (transform both the y-axis (frequency) to log scale,\u001b[0m\u001b[1;33m\u001b[0m\u001b[1;33m\u001b[0m\u001b[1;33m\u001b[0m\u001b[0m\n\u001b[0;32m      8\u001b[0m \u001b[1;33m\u001b[0m\u001b[0m\n\u001b[1;32m----> 9\u001b[1;33m     \u001b[0mpitches\u001b[0m\u001b[1;33m,\u001b[0m \u001b[0mmagnitudes\u001b[0m \u001b[1;33m=\u001b[0m \u001b[0mlr\u001b[0m\u001b[1;33m.\u001b[0m\u001b[0mpiptrack\u001b[0m\u001b[1;33m(\u001b[0m\u001b[0my\u001b[0m\u001b[1;33m=\u001b[0m\u001b[0my\u001b[0m\u001b[1;33m,\u001b[0m \u001b[0msr\u001b[0m\u001b[1;33m=\u001b[0m\u001b[0msr\u001b[0m\u001b[1;33m)\u001b[0m\u001b[1;33m\u001b[0m\u001b[1;33m\u001b[0m\u001b[0m\n\u001b[0m\u001b[0;32m     10\u001b[0m \u001b[1;33m\u001b[0m\u001b[0m\n\u001b[0;32m     11\u001b[0m \u001b[1;33m\u001b[0m\u001b[0m\n",
      "\u001b[1;31mNameError\u001b[0m: name 'sr' is not defined"
     ]
    }
   ],
   "source": [
    "df4 = pd.DataFrame(columns=['pitches' ])\n",
    "counter=0\n",
    "\n",
    "for index,path in enumerate(audio_df.path):\n",
    "    X, sample_rate = librosa.load(path, res_type='kaiser_fast',duration=3,sr=44100,offset=0.5)\n",
    "    \n",
    "    #get the mel-scaled spectrogram (transform both the y-axis (frequency) to log scale, \n",
    "    \n",
    "    pitches, magnitudes = lr.piptrack(y=y, sr=sr)\n",
    "     \n",
    "        \n",
    "    df.loc[counter] = [pitches]\n",
    "    counter=counter+1"
   ]
  },
  {
   "cell_type": "markdown",
   "id": "40318952",
   "metadata": {},
   "source": [
    "sélectionner d'autres features"
   ]
  }
 ],
 "metadata": {
  "kernelspec": {
   "display_name": "Python 3",
   "language": "python",
   "name": "python3"
  },
  "language_info": {
   "codemirror_mode": {
    "name": "ipython",
    "version": 3
   },
   "file_extension": ".py",
   "mimetype": "text/x-python",
   "name": "python",
   "nbconvert_exporter": "python",
   "pygments_lexer": "ipython3",
   "version": "3.9.5"
  }
 },
 "nbformat": 4,
 "nbformat_minor": 5
}
